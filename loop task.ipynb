{
 "cells": [
  {
   "cell_type": "markdown",
   "id": "e646d83e-daa5-4fca-9674-9aeacb62f74d",
   "metadata": {},
   "source": [
    "TASK 1"
   ]
  },
  {
   "cell_type": "code",
   "execution_count": 4,
   "id": "86bb66ac-7551-4687-9397-128f00d66c85",
   "metadata": {},
   "outputs": [
    {
     "name": "stdout",
     "output_type": "stream",
     "text": [
      "RajPatel@(link unavailable)\n",
      "PriyaSharma@(link unavailable)\n",
      "AmitKumar@(link unavailable)\n",
      "NehaSingh@(link unavailable)\n"
     ]
    }
   ],
   "source": [
    "indian_employees = [[\"Raj\", \"Patel\"], [\"Priya\", \"Sharma\"], [\"Amit\", \"Kumar\"], [\"Neha\", \"Singh\"]]\n",
    "\n",
    "email_addresses = [f\"{first_name}{last_name}@(link unavailable)\" for first_name, last_name in indian_employees]\n",
    "\n",
    "for email in email_addresses:\n",
    "\n",
    "    print(email)"
   ]
  },
  {
   "cell_type": "code",
   "execution_count": null,
   "id": "ae4b7382-6b78-46ac-9daf-8d48439e514b",
   "metadata": {},
   "outputs": [],
   "source": []
  }
 ],
 "metadata": {
  "kernelspec": {
   "display_name": "Python 3 (ipykernel)",
   "language": "python",
   "name": "python3"
  },
  "language_info": {
   "codemirror_mode": {
    "name": "ipython",
    "version": 3
   },
   "file_extension": ".py",
   "mimetype": "text/x-python",
   "name": "python",
   "nbconvert_exporter": "python",
   "pygments_lexer": "ipython3",
   "version": "3.12.4"
  }
 },
 "nbformat": 4,
 "nbformat_minor": 5
}
