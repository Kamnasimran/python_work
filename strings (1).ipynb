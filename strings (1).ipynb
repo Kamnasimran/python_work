{
 "cells": [
  {
   "cell_type": "code",
   "execution_count": null,
   "id": "0a4ab5df-0551-4fc5-8423-f281f60db3f7",
   "metadata": {},
   "outputs": [],
   "source": [
    "name = \"python\"\n"
   ]
  },
  {
   "cell_type": "markdown",
   "id": "18417f75-dea6-45a2-bb8f-5492f8b3ed77",
   "metadata": {},
   "source": [
    "print(name.capitalize())\n"
   ]
  },
  {
   "cell_type": "code",
   "execution_count": 1,
   "id": "1b21cb7e-9cf7-4514-8420-affe32a8b038",
   "metadata": {},
   "outputs": [
    {
     "ename": "NameError",
     "evalue": "name 'name' is not defined",
     "output_type": "error",
     "traceback": [
      "\u001b[1;31m---------------------------------------------------------------------------\u001b[0m",
      "\u001b[1;31mNameError\u001b[0m                                 Traceback (most recent call last)",
      "Cell \u001b[1;32mIn[1], line 1\u001b[0m\n\u001b[1;32m----> 1\u001b[0m \u001b[38;5;28mprint\u001b[39m(name\u001b[38;5;241m.\u001b[39mcapitalize())\n",
      "\u001b[1;31mNameError\u001b[0m: name 'name' is not defined"
     ]
    }
   ],
   "source": [
    "print(name.capitalize())"
   ]
  },
  {
   "cell_type": "code",
   "execution_count": 3,
   "id": "39fd65a0-106d-409d-90f7-2b78bd785645",
   "metadata": {},
   "outputs": [
    {
     "name": "stdout",
     "output_type": "stream",
     "text": [
      "Python\n"
     ]
    }
   ],
   "source": [
    "name = \"PYTHON\"\n",
    "print(name.capitalize())"
   ]
  },
  {
   "cell_type": "code",
   "execution_count": 4,
   "id": "20edf036-fb41-49a3-9127-fb53b7172db4",
   "metadata": {},
   "outputs": [
    {
     "name": "stdout",
     "output_type": "stream",
     "text": [
      "python\n"
     ]
    }
   ],
   "source": [
    "print(name.lower())"
   ]
  },
  {
   "cell_type": "code",
   "execution_count": 9,
   "id": "5d50b1aa-4d8b-4ccb-8fec-ed6ce90ee341",
   "metadata": {},
   "outputs": [
    {
     "name": "stdout",
     "output_type": "stream",
     "text": [
      "0\n"
     ]
    }
   ],
   "source": [
    "name=\"python\"\n",
    "print(name.find(\"p\"))"
   ]
  },
  {
   "cell_type": "markdown",
   "id": "1cc6a515-1b42-4348-be17-d3c3ed3f21c6",
   "metadata": {},
   "source": [
    "my_string = \"Hello Python PPPPY\"\n",
    "\n",
    "print(my_string.count(\"l\"))\n",
    "\n",
    "print(my_string.count(\"P\",9,len(my_string)))"
   ]
  },
  {
   "cell_type": "code",
   "execution_count": 10,
   "id": "299b1a78-4db3-48d7-bd5d-fc3a9fed8673",
   "metadata": {},
   "outputs": [
    {
     "name": "stdout",
     "output_type": "stream",
     "text": [
      "2\n",
      "4\n"
     ]
    }
   ],
   "source": [
    "my_string = \"Hello Python PPPPY\"\n",
    "\n",
    "print(my_string.count(\"l\"))\n",
    "\n",
    "print(my_string.count(\"P\",9,len(my_string)))"
   ]
  },
  {
   "cell_type": "code",
   "execution_count": 11,
   "id": "890eb9cc-33bc-4a25-b95c-3eb054cfc6b1",
   "metadata": {},
   "outputs": [
    {
     "name": "stdout",
     "output_type": "stream",
     "text": [
      "PYTHON\n"
     ]
    }
   ],
   "source": [
    "my_string = \"python\"\n",
    "print(my_string.upper())"
   ]
  },
  {
   "cell_type": "code",
   "execution_count": 12,
   "id": "cda14264-eaa0-401b-a015-e364f83f15e0",
   "metadata": {},
   "outputs": [
    {
     "name": "stdout",
     "output_type": "stream",
     "text": [
      "True\n"
     ]
    }
   ],
   "source": [
    "my_string = \"python\"\n",
    "print(my_string.startswith(\"p\"))"
   ]
  },
  {
   "cell_type": "code",
   "execution_count": 13,
   "id": "f9efb72f-a080-4f21-b71f-4879f3521dff",
   "metadata": {},
   "outputs": [
    {
     "name": "stdout",
     "output_type": "stream",
     "text": [
      "True\n"
     ]
    }
   ],
   "source": [
    "my_string = \"python\"\n",
    "print(my_string.endswith(\"n\"))"
   ]
  },
  {
   "cell_type": "code",
   "execution_count": 14,
   "id": "c7aae31a-39a6-493f-8e3d-1d29eeaeedea",
   "metadata": {},
   "outputs": [
    {
     "name": "stdout",
     "output_type": "stream",
     "text": [
      "6\n"
     ]
    }
   ],
   "source": [
    "my_string = \"hello world world\"\n",
    "index = my_string.index(\"world\")\n",
    "print(index)"
   ]
  },
  {
   "cell_type": "code",
   "execution_count": 15,
   "id": "02a40b33-ed8b-4404-9220-55d7b0b5da7f",
   "metadata": {},
   "outputs": [
    {
     "name": "stdout",
     "output_type": "stream",
     "text": [
      "True\n",
      "True\n",
      "True\n",
      "False\n"
     ]
    }
   ],
   "source": [
    " my_string1 = \"hello123\"\n",
    "my_string2 = \"12345\"\n",
    "my_string3 = \"Hello\"\n",
    "my_string4 = \"hello world\"\n",
    "\n",
    "print(my_string1.isalnum())\n",
    "print(my_string2.isalnum())\n",
    "print(my_string3.isalnum())\n",
    "print(my_string4.isalnum())"
   ]
  },
  {
   "cell_type": "code",
   "execution_count": 16,
   "id": "3a4ea926-e8fe-4fa1-91f6-8609b4c8d8d0",
   "metadata": {},
   "outputs": [
    {
     "name": "stdout",
     "output_type": "stream",
     "text": [
      "hello world\n"
     ]
    }
   ],
   "source": [
    "string = \"Hello World\"\n",
    "print(string.casefold())"
   ]
  },
  {
   "cell_type": "code",
   "execution_count": 17,
   "id": "03d048af-a01d-4481-bf28-c209416d79a3",
   "metadata": {},
   "outputs": [
    {
     "name": "stdout",
     "output_type": "stream",
     "text": [
      "**hello***\n"
     ]
    }
   ],
   "source": [
    "string = \"hello\"\n",
    "print(string.center(10, \"*\"))"
   ]
  },
  {
   "cell_type": "code",
   "execution_count": 18,
   "id": "ed629442-5838-4bb4-94d7-130e04a47292",
   "metadata": {},
   "outputs": [
    {
     "name": "stdout",
     "output_type": "stream",
     "text": [
      "b'hello world'\n"
     ]
    }
   ],
   "source": [
    "string = \"hello world\"\n",
    "print(string.encode(\"utf-8\"))"
   ]
  },
  {
   "cell_type": "code",
   "execution_count": 19,
   "id": "c2aeb6e5-b6b2-49ca-bf80-f6152b94543d",
   "metadata": {},
   "outputs": [
    {
     "name": "stdout",
     "output_type": "stream",
     "text": [
      "hello   world\n"
     ]
    }
   ],
   "source": [
    "string = \"hello\\tworld\"\n",
    "print(string.expandtabs(4))"
   ]
  },
  {
   "cell_type": "code",
   "execution_count": 20,
   "id": "695a3e2f-c380-48d8-b69e-ded95a864da4",
   "metadata": {},
   "outputs": [
    {
     "name": "stdout",
     "output_type": "stream",
     "text": [
      "6\n"
     ]
    }
   ],
   "source": [
    "string = \"hello world\"\n",
    "print(string.find(\"world\"))  "
   ]
  },
  {
   "cell_type": "code",
   "execution_count": 21,
   "id": "fb32fe39-0227-495e-a7d8-e31387a27569",
   "metadata": {},
   "outputs": [
    {
     "name": "stdout",
     "output_type": "stream",
     "text": [
      "hello world\n"
     ]
    }
   ],
   "source": [
    "string = \"hello {}\"\n",
    "print(string.format(\"world\"))"
   ]
  },
  {
   "cell_type": "code",
   "execution_count": 22,
   "id": "9220036a-fc50-4f34-98d4-605593998566",
   "metadata": {},
   "outputs": [
    {
     "name": "stdout",
     "output_type": "stream",
     "text": [
      "hello world\n"
     ]
    }
   ],
   "source": [
    "string = \"hello {name}\"\n",
    "print(string.format_map({\"name\": \"world\"}))"
   ]
  },
  {
   "cell_type": "code",
   "execution_count": 23,
   "id": "5833dc68-55a2-410d-810d-f2c09b5fac7f",
   "metadata": {},
   "outputs": [
    {
     "name": "stdout",
     "output_type": "stream",
     "text": [
      "6\n"
     ]
    }
   ],
   "source": [
    "string = \"hello world\"\n",
    "print(string.index(\"world\")) "
   ]
  },
  {
   "cell_type": "code",
   "execution_count": 24,
   "id": "e80211a7-3ef5-48da-958f-87938e1874dc",
   "metadata": {},
   "outputs": [
    {
     "name": "stdout",
     "output_type": "stream",
     "text": [
      "True\n"
     ]
    }
   ],
   "source": [
    "string = \"hello123\"\n",
    "print(string.isalnum()) "
   ]
  },
  {
   "cell_type": "code",
   "execution_count": 25,
   "id": "28202a3b-e2f9-482d-bc3f-439999f5e028",
   "metadata": {},
   "outputs": [
    {
     "name": "stdout",
     "output_type": "stream",
     "text": [
      "True\n"
     ]
    }
   ],
   "source": [
    "string = \"hello\"\n",
    "print(string.isalpha())"
   ]
  },
  {
   "cell_type": "code",
   "execution_count": 26,
   "id": "61c4908e-08b1-4ed8-a18f-949a7c0160e5",
   "metadata": {},
   "outputs": [
    {
     "name": "stdout",
     "output_type": "stream",
     "text": [
      "True\n"
     ]
    }
   ],
   "source": [
    "string = \"hello\"\n",
    "print(string.isascii())"
   ]
  },
  {
   "cell_type": "code",
   "execution_count": 27,
   "id": "3a9c0879-76af-4dd3-a4a4-b9a850a3150e",
   "metadata": {},
   "outputs": [
    {
     "name": "stdout",
     "output_type": "stream",
     "text": [
      "True\n"
     ]
    }
   ],
   "source": [
    "string = \"123\"\n",
    "print(string.isdecimal())"
   ]
  },
  {
   "cell_type": "code",
   "execution_count": 28,
   "id": "62f3bfd5-c9b8-4594-ad42-822fa5fe42c2",
   "metadata": {},
   "outputs": [
    {
     "name": "stdout",
     "output_type": "stream",
     "text": [
      "True\n"
     ]
    }
   ],
   "source": [
    "string = \"123\"\n",
    "print(string.isdigit())"
   ]
  },
  {
   "cell_type": "code",
   "execution_count": 29,
   "id": "eef358a6-da87-475c-b21e-9c8f7ed0f3c8",
   "metadata": {},
   "outputs": [
    {
     "name": "stdout",
     "output_type": "stream",
     "text": [
      "True\n"
     ]
    }
   ],
   "source": [
    "string = \"hello\"\n",
    "print(string.isidentifier())"
   ]
  },
  {
   "cell_type": "code",
   "execution_count": 30,
   "id": "3c8cd674-a8e5-4a92-befb-b5a065642eec",
   "metadata": {},
   "outputs": [
    {
     "name": "stdout",
     "output_type": "stream",
     "text": [
      "True\n"
     ]
    }
   ],
   "source": [
    "string = \"hello\"\n",
    "print(string.islower()) "
   ]
  },
  {
   "cell_type": "code",
   "execution_count": 31,
   "id": "b4900996-caa7-437e-907c-0c9aacd03ee6",
   "metadata": {},
   "outputs": [
    {
     "name": "stdout",
     "output_type": "stream",
     "text": [
      "True\n"
     ]
    }
   ],
   "source": [
    "string = \"123\"\n",
    "print(string.isnumeric()) "
   ]
  },
  {
   "cell_type": "code",
   "execution_count": 32,
   "id": "3a229589-8c9a-44dd-a0b3-eb407fed080d",
   "metadata": {},
   "outputs": [
    {
     "name": "stdout",
     "output_type": "stream",
     "text": [
      "True\n"
     ]
    }
   ],
   "source": [
    "string = \"hello\"\n",
    "print(string.isprintable())"
   ]
  },
  {
   "cell_type": "code",
   "execution_count": 33,
   "id": "cfb49e03-249d-41c2-9c48-623ba43595ac",
   "metadata": {},
   "outputs": [
    {
     "name": "stdout",
     "output_type": "stream",
     "text": [
      "True\n"
     ]
    }
   ],
   "source": [
    "string = \"   \"\n",
    "print(string.isspace())"
   ]
  },
  {
   "cell_type": "code",
   "execution_count": 34,
   "id": "31e8739d-32b6-4b93-8cbc-450ce49c6d9a",
   "metadata": {},
   "outputs": [
    {
     "name": "stdout",
     "output_type": "stream",
     "text": [
      "True\n"
     ]
    }
   ],
   "source": [
    "string = \"Hello World\"\n",
    "print(string.istitle())"
   ]
  },
  {
   "cell_type": "code",
   "execution_count": 35,
   "id": "a127fddb-afde-4224-ac46-cdf723e8bf89",
   "metadata": {},
   "outputs": [
    {
     "name": "stdout",
     "output_type": "stream",
     "text": [
      "True\n"
     ]
    }
   ],
   "source": [
    "string = \"HELLO\"\n",
    "print(string.isupper())"
   ]
  },
  {
   "cell_type": "code",
   "execution_count": 36,
   "id": "2c0802b2-2f48-4dae-8527-9df5e331ea07",
   "metadata": {},
   "outputs": [
    {
     "name": "stdout",
     "output_type": "stream",
     "text": [
      "hello,world\n"
     ]
    }
   ],
   "source": [
    "string = \",\"\n",
    "print(string.join([\"hello\", \"world\"]))"
   ]
  },
  {
   "cell_type": "code",
   "execution_count": 37,
   "id": "77bf55b5-0c47-4149-9a36-32b190a8bd18",
   "metadata": {},
   "outputs": [
    {
     "name": "stdout",
     "output_type": "stream",
     "text": [
      "hello*****\n"
     ]
    }
   ],
   "source": [
    "string = \"hello\"\n",
    "print(string.ljust(10, \"*\"))"
   ]
  },
  {
   "cell_type": "code",
   "execution_count": 38,
   "id": "d3b30727-7381-4af0-b0e3-2026808d261c",
   "metadata": {},
   "outputs": [
    {
     "name": "stdout",
     "output_type": "stream",
     "text": [
      "hello\n"
     ]
    }
   ],
   "source": [
    "string = \"HELLO\"\n",
    "print(string.lower())"
   ]
  },
  {
   "cell_type": "code",
   "execution_count": 39,
   "id": "70bc9a2c-e1fc-4565-9cff-5c11efb86c8d",
   "metadata": {},
   "outputs": [
    {
     "name": "stdout",
     "output_type": "stream",
     "text": [
      "hello\n"
     ]
    }
   ],
   "source": [
    "string = \"   hello\"\n",
    "print(string.lstrip()) "
   ]
  },
  {
   "cell_type": "code",
   "execution_count": 40,
   "id": "162a2072-25aa-4ed5-80ba-73a6768d0d21",
   "metadata": {},
   "outputs": [
    {
     "name": "stdout",
     "output_type": "stream",
     "text": [
      "Hello\n"
     ]
    }
   ],
   "source": [
    "string = \"hello\"\n",
    "table = str.maketrans(\"h\", \"H\")\n",
    "print(string.translate(table))"
   ]
  },
  {
   "cell_type": "code",
   "execution_count": 41,
   "id": "c195a6ed-0789-4ead-95dd-d1f830d89f22",
   "metadata": {},
   "outputs": [
    {
     "name": "stdout",
     "output_type": "stream",
     "text": [
      "('hello', ' ', 'world')\n"
     ]
    }
   ],
   "source": [
    "string = \"hello world\"\n",
    "print(string.partition(\" \"))"
   ]
  },
  {
   "cell_type": "code",
   "execution_count": 42,
   "id": "f6e3afa5-d004-4de6-90ad-cd7fe11d29f8",
   "metadata": {},
   "outputs": [
    {
     "name": "stdout",
     "output_type": "stream",
     "text": [
      "hello Python\n"
     ]
    }
   ],
   "source": [
    "string = \"hello world\"\n",
    "print(string.replace(\"world\", \"Python\"))"
   ]
  },
  {
   "cell_type": "code",
   "execution_count": 43,
   "id": "6b143701-3cd5-4669-9a46-bbbf255e5451",
   "metadata": {},
   "outputs": [
    {
     "name": "stdout",
     "output_type": "stream",
     "text": [
      "6\n"
     ]
    }
   ],
   "source": [
    "string = \"hello world\"\n",
    "print(string.rfind(\"world\")) "
   ]
  },
  {
   "cell_type": "code",
   "execution_count": 44,
   "id": "9138f75e-4c45-4caa-86f3-48a3e8c2fc90",
   "metadata": {},
   "outputs": [
    {
     "name": "stdout",
     "output_type": "stream",
     "text": [
      "6\n"
     ]
    }
   ],
   "source": [
    "string = \"hello world\"\n",
    "print(string.rindex(\"world\"))"
   ]
  },
  {
   "cell_type": "code",
   "execution_count": 45,
   "id": "814838ad-1a4e-4463-a6ae-cb8f802dc2d4",
   "metadata": {},
   "outputs": [
    {
     "name": "stdout",
     "output_type": "stream",
     "text": [
      "*****hello\n"
     ]
    }
   ],
   "source": [
    "string = \"hello\"\n",
    "print(string.rjust(10, \"*\")) "
   ]
  },
  {
   "cell_type": "code",
   "execution_count": 46,
   "id": "af5297a4-4d08-44f7-b384-48e6c4608d27",
   "metadata": {},
   "outputs": [
    {
     "name": "stdout",
     "output_type": "stream",
     "text": [
      "('hello', ' ', 'world')\n"
     ]
    }
   ],
   "source": [
    "string = \"hello world\"\n",
    "print(string.rpartition(\" \")) "
   ]
  },
  {
   "cell_type": "code",
   "execution_count": 1,
   "id": "33c56695-f4fd-4b9e-902f-79d4a0786930",
   "metadata": {},
   "outputs": [
    {
     "data": {
      "text/plain": [
       "['hello', 'world']"
      ]
     },
     "execution_count": 1,
     "metadata": {},
     "output_type": "execute_result"
    }
   ],
   "source": [
    "\"hello world\" .rsplit(\" \")"
   ]
  },
  {
   "cell_type": "code",
   "execution_count": 3,
   "id": "c32a1ca0-3cf8-4a9e-99eb-216833e3051e",
   "metadata": {},
   "outputs": [
    {
     "data": {
      "text/plain": [
       "'hello'"
      ]
     },
     "execution_count": 3,
     "metadata": {},
     "output_type": "execute_result"
    }
   ],
   "source": [
    "\"hello\" .rstrip()"
   ]
  },
  {
   "cell_type": "code",
   "execution_count": 5,
   "id": "8903c091-d874-438b-bbf1-83c2bd85865d",
   "metadata": {},
   "outputs": [
    {
     "data": {
      "text/plain": [
       "['hello', 'world']"
      ]
     },
     "execution_count": 5,
     "metadata": {},
     "output_type": "execute_result"
    }
   ],
   "source": [
    "\"hello world\" .split(\" \")"
   ]
  },
  {
   "cell_type": "code",
   "execution_count": 7,
   "id": "0334077e-5fbe-4c48-8313-50bc917d2678",
   "metadata": {},
   "outputs": [
    {
     "data": {
      "text/plain": [
       "['hello', 'world']"
      ]
     },
     "execution_count": 7,
     "metadata": {},
     "output_type": "execute_result"
    }
   ],
   "source": [
    "\"hello\\nworld\" .splitlines()"
   ]
  },
  {
   "cell_type": "code",
   "execution_count": 10,
   "id": "1aca6c7e-82e2-4545-a905-e99637b1a864",
   "metadata": {},
   "outputs": [
    {
     "data": {
      "text/plain": [
       "True"
      ]
     },
     "execution_count": 10,
     "metadata": {},
     "output_type": "execute_result"
    }
   ],
   "source": [
    "\"hello world\" .startswith(\"hello\")"
   ]
  },
  {
   "cell_type": "code",
   "execution_count": 13,
   "id": "0b693480-a644-4496-a051-81f81ce35094",
   "metadata": {},
   "outputs": [
    {
     "data": {
      "text/plain": [
       "'hello'"
      ]
     },
     "execution_count": 13,
     "metadata": {},
     "output_type": "execute_result"
    }
   ],
   "source": [
    "\" hello \" .strip()"
   ]
  },
  {
   "cell_type": "code",
   "execution_count": 15,
   "id": "216beb2c-dcad-4e36-acc1-4927255c9a3e",
   "metadata": {},
   "outputs": [
    {
     "data": {
      "text/plain": [
       "'hELLO wORLD'"
      ]
     },
     "execution_count": 15,
     "metadata": {},
     "output_type": "execute_result"
    }
   ],
   "source": [
    "\"Hello World\" .swapcase()"
   ]
  },
  {
   "cell_type": "code",
   "execution_count": 17,
   "id": "e74107cd-ae28-4ced-abb5-89c78050115c",
   "metadata": {},
   "outputs": [
    {
     "data": {
      "text/plain": [
       "'Hello World'"
      ]
     },
     "execution_count": 17,
     "metadata": {},
     "output_type": "execute_result"
    }
   ],
   "source": [
    "\"hello world\" .title()"
   ]
  },
  {
   "cell_type": "code",
   "execution_count": 23,
   "id": "4156d363-3fe7-4982-9cb7-48bb5ea0a52a",
   "metadata": {},
   "outputs": [
    {
     "data": {
      "text/plain": [
       "'Hello'"
      ]
     },
     "execution_count": 23,
     "metadata": {},
     "output_type": "execute_result"
    }
   ],
   "source": [
    "\"hello\" .translate(str .maketrans(\"h\",\"H\"))"
   ]
  },
  {
   "cell_type": "code",
   "execution_count": 25,
   "id": "8c0e1178-b1b7-4b9b-88d2-86a3eacf3217",
   "metadata": {},
   "outputs": [
    {
     "name": "stdout",
     "output_type": "stream",
     "text": [
      "Hello World\n"
     ]
    }
   ],
   "source": [
    "var1 = \"Hello \"\n",
    "var2 = \"World\"\n",
    "var3 = var1 + var2\n",
    "print(var3) "
   ]
  },
  {
   "cell_type": "code",
   "execution_count": 29,
   "id": "7476a0b4-6e3e-4164-8c26-051aad63fd4a",
   "metadata": {},
   "outputs": [
    {
     "name": "stdout",
     "output_type": "stream",
     "text": [
      "Hello new members\n"
     ]
    }
   ],
   "source": [
    "var1 = \"Hello\"\n",
    "var2 = \"new members\"\n",
    "var3 = \" \".join([var1, var2])\n",
    "print(var3) "
   ]
  },
  {
   "cell_type": "code",
   "execution_count": 31,
   "id": "67aa1c69-653b-4cdb-87bf-ccbdb5df9137",
   "metadata": {},
   "outputs": [
    {
     "name": "stdout",
     "output_type": "stream",
     "text": [
      "Welcome Back\n"
     ]
    }
   ],
   "source": [
    "var1 = \"Welcome\"\n",
    "var2 = \"Back\"\n",
    "var3 = \"%s %s\" % (var1, var2)\n",
    "print(var3)"
   ]
  },
  {
   "cell_type": "code",
   "execution_count": 45,
   "id": "5ad546c5-2507-4343-a6b0-f44afb9ffdf4",
   "metadata": {},
   "outputs": [
    {
     "name": "stdout",
     "output_type": "stream",
     "text": [
      "['My', 'new', 'page']\n"
     ]
    }
   ],
   "source": [
    "s1 = \"New\"\n",
    "s2 = \"Page for members\"\n",
    "result = s1 + s2\n",
    "print(words)"
   ]
  },
  {
   "cell_type": "code",
   "execution_count": 43,
   "id": "8fddf963-20b3-48a9-888c-26f27607a068",
   "metadata": {},
   "outputs": [
    {
     "name": "stdout",
     "output_type": "stream",
     "text": [
      "['My', 'new', 'page']\n"
     ]
    }
   ],
   "source": [
    "words = [\"My\", \"new\", \"page\"]\n",
    "separator = \" \"\n",
    "result = separator.join(words)\n",
    "print(words)"
   ]
  },
  {
   "cell_type": "code",
   "execution_count": 47,
   "id": "9f1af783-8679-4e48-b09a-c7b489901630",
   "metadata": {},
   "outputs": [
    {
     "name": "stdout",
     "output_type": "stream",
     "text": [
      "Character at index 0: M\n",
      "Character at index 1: y\n",
      "Character at index 2: N\n",
      "Character at index 3: e\n",
      "Character at index 4: w\n",
      "Character at index 5: P\n",
      "Character at index 6: a\n",
      "Character at index 7: g\n",
      "Character at index 8: e\n"
     ]
    }
   ],
   "source": [
    "def access_characters(s):\n",
    "    for i in range(len(s)):\n",
    "        char = s[i]\n",
    "        print(f\"Character at index {i}: {char}\")\n",
    "\n",
    "my_string = \"MyNewPage\"\n",
    "access_characters(my_string)"
   ]
  },
  {
   "cell_type": "code",
   "execution_count": 49,
   "id": "41f8e281-8809-4c0d-9687-87405e3f0035",
   "metadata": {},
   "outputs": [
    {
     "name": "stdout",
     "output_type": "stream",
     "text": [
      "13\n"
     ]
    }
   ],
   "source": [
    "my_string = \"Hello, world!\"\n",
    "length = len(my_string)\n",
    "print(length)"
   ]
  },
  {
   "cell_type": "code",
   "execution_count": 51,
   "id": "cfcccfd1-051d-40ff-a597-31fc26d58878",
   "metadata": {},
   "outputs": [
    {
     "name": "stdout",
     "output_type": "stream",
     "text": [
      "HELLO, WORLD!\n"
     ]
    }
   ],
   "source": [
    "my_string = \"Hello, world!\"\n",
    "uppercase_string = my_string.upper()\n",
    "print(uppercase_string) "
   ]
  },
  {
   "cell_type": "code",
   "execution_count": 53,
   "id": "6088b414-d75e-41c6-834b-6e5ebec421e4",
   "metadata": {},
   "outputs": [
    {
     "name": "stdout",
     "output_type": "stream",
     "text": [
      "hello, world!\n"
     ]
    }
   ],
   "source": [
    "my_string = \"Hello, world!\"\n",
    "lowercase_string = my_string.lower()\n",
    "print(lowercase_string)"
   ]
  },
  {
   "cell_type": "code",
   "execution_count": 55,
   "id": "0e890a70-833f-4c70-942a-2241afa8bca4",
   "metadata": {},
   "outputs": [
    {
     "name": "stdout",
     "output_type": "stream",
     "text": [
      "Hello, universe!\n"
     ]
    }
   ],
   "source": [
    "my_string = \"Hello, world!\"\n",
    "new_string = my_string.replace(\"world\", \"universe\")\n",
    "print(new_string)"
   ]
  },
  {
   "cell_type": "code",
   "execution_count": 57,
   "id": "3c04ac7a-a2fd-440b-a720-39bceb0c861b",
   "metadata": {},
   "outputs": [
    {
     "name": "stdout",
     "output_type": "stream",
     "text": [
      "['welcome', 'to the', 'new universe']\n"
     ]
    }
   ],
   "source": [
    "my_string = \"welcome,to the,new universe\"\n",
    "result = my_string.split(\",\")\n",
    "print(result) "
   ]
  },
  {
   "cell_type": "code",
   "execution_count": 59,
   "id": "8d677734-6f7f-4bbf-a1b0-30dff131242f",
   "metadata": {},
   "outputs": [
    {
     "name": "stdout",
     "output_type": "stream",
     "text": [
      "Starts with 'H': True\n",
      "Starts with 'h': False\n"
     ]
    }
   ],
   "source": [
    "my_string = \"Hello, world!\"\n",
    "print(\"Starts with 'H':\", my_string.startswith(\"H\"))  \n",
    "print(\"Starts with 'h':\", my_string.startswith(\"h\")) "
   ]
  },
  {
   "cell_type": "code",
   "execution_count": 61,
   "id": "fab66503-485f-431c-a0ea-818a9349bf1e",
   "metadata": {},
   "outputs": [
    {
     "name": "stdout",
     "output_type": "stream",
     "text": [
      "False\n",
      "False\n"
     ]
    }
   ],
   "source": [
    "my_string = \"Hello, world!\"\n",
    "print(my_string.endswith(\"world\"))  \n",
    "print(my_string.endswith(\"universe\"))"
   ]
  },
  {
   "cell_type": "code",
   "execution_count": 63,
   "id": "c504c02a-eea2-48b5-baf2-5cd7b8629c30",
   "metadata": {},
   "outputs": [
    {
     "name": "stdout",
     "output_type": "stream",
     "text": [
      "Hello, world!\n"
     ]
    }
   ],
   "source": [
    "my_string = \"   Hello, world!   \"\n",
    "cleaned_string = my_string.strip()\n",
    "print(cleaned_string)"
   ]
  },
  {
   "cell_type": "code",
   "execution_count": 65,
   "id": "73da740c-b6c5-4dd9-85c3-820103901793",
   "metadata": {},
   "outputs": [
    {
     "name": "stdout",
     "output_type": "stream",
     "text": [
      "7\n"
     ]
    }
   ],
   "source": [
    "my_string = \"Hello, world!\"\n",
    "index = my_string.index(\"world\")\n",
    "print(index) "
   ]
  },
  {
   "cell_type": "code",
   "execution_count": 67,
   "id": "19a7c08b-fdbc-45e4-bb7c-22a332de91d9",
   "metadata": {},
   "outputs": [
    {
     "name": "stdout",
     "output_type": "stream",
     "text": [
      "Number of substring occurrences: 2\n",
      "Number of substring occurrences: 1\n"
     ]
    }
   ],
   "source": [
    "my_string = \"John has 1 apple, Sarah has 2 apples, Mike has 5 apples.\"\n",
    "substr = \"apples\"\n",
    "\n",
    "\n",
    "result = my_string.count(substr)\n",
    "print(\"Number of substring occurrences:\", result)  \n",
    "\n",
    "\n",
    "start, end = 0, 40\n",
    "result2 = my_string.count(substr, start, end)\n",
    "print(\"Number of substring occurrences:\", result2)"
   ]
  },
  {
   "cell_type": "code",
   "execution_count": 69,
   "id": "0dbad4da-8e1a-42a7-a39c-3ef78083c061",
   "metadata": {},
   "outputs": [
    {
     "name": "stdout",
     "output_type": "stream",
     "text": [
      "False\n"
     ]
    }
   ],
   "source": [
    "my_string = \"Hello, world!\"\n",
    "print(my_string.isalpha()) "
   ]
  },
  {
   "cell_type": "code",
   "execution_count": 71,
   "id": "33e754e0-0ab8-4cf3-9395-52bfaffea773",
   "metadata": {},
   "outputs": [
    {
     "name": "stdout",
     "output_type": "stream",
     "text": [
      "True\n"
     ]
    }
   ],
   "source": [
    "my_string = \"12345\"\n",
    "print(my_string.isdigit()) "
   ]
  },
  {
   "cell_type": "code",
   "execution_count": 73,
   "id": "1e51190b-6324-4855-a289-d7d872a3e8da",
   "metadata": {},
   "outputs": [
    {
     "name": "stdout",
     "output_type": "stream",
     "text": [
      "False\n"
     ]
    }
   ],
   "source": [
    "my_string = \"123.45\"\n",
    "print(my_string.isnumeric())"
   ]
  },
  {
   "cell_type": "code",
   "execution_count": 78,
   "id": "f882e443-c2ee-4a79-8821-40200cadaa39",
   "metadata": {},
   "outputs": [
    {
     "name": "stdout",
     "output_type": "stream",
     "text": [
      "True\n"
     ]
    }
   ],
   "source": [
    "def is_palindrome(s):\n",
    "    return s == s[::-1]\n",
    "\n",
    "my_string = \"malayalam\"\n",
    "result = is_palindrome(my_string)\n",
    "print(result) "
   ]
  },
  {
   "cell_type": "code",
   "execution_count": 80,
   "id": "f096843f-73ca-400f-8a4c-8aeb65b06aa1",
   "metadata": {},
   "outputs": [
    {
     "name": "stdout",
     "output_type": "stream",
     "text": [
      "!dlrow ,olleH\n"
     ]
    }
   ],
   "source": [
    "original_string = \"Hello, world!\"\n",
    "reversed_string = original_string[::-1]\n",
    "print(reversed_string)"
   ]
  },
  {
   "cell_type": "code",
   "execution_count": 82,
   "id": "0aa6ac96-9d3a-4963-8a52-6944a0c94212",
   "metadata": {},
   "outputs": [
    {
     "name": "stdout",
     "output_type": "stream",
     "text": [
      "You have 5 apples.\n"
     ]
    }
   ],
   "source": [
    "print(\"You have {} apples.\".format(5))"
   ]
  },
  {
   "cell_type": "code",
   "execution_count": 84,
   "id": "57587b1a-7429-4764-83c0-d3f10c63dc60",
   "metadata": {},
   "outputs": [
    {
     "name": "stdout",
     "output_type": "stream",
     "text": [
      "Values: 4, strings: 2+2\n"
     ]
    }
   ],
   "source": [
    "print(\"Values: %i, strings: %s\" % (2 + 2, \"2+2\"))"
   ]
  },
  {
   "cell_type": "code",
   "execution_count": 86,
   "id": "4ba375e0-5e94-422d-8b6e-c968c4e96b79",
   "metadata": {},
   "outputs": [
    {
     "name": "stdout",
     "output_type": "stream",
     "text": [
      "world\n"
     ]
    }
   ],
   "source": [
    "my_string = \"Hello, world!\"\n",
    "substring = my_string[7:12]\n",
    "print(substring) "
   ]
  },
  {
   "cell_type": "code",
   "execution_count": 88,
   "id": "211f7aaf-1f8d-4f36-bfed-358fc5e84030",
   "metadata": {},
   "outputs": [
    {
     "name": "stdout",
     "output_type": "stream",
     "text": [
      "Hell, wrld!\n"
     ]
    }
   ],
   "source": [
    "original_string = \"Hello, world!\"\n",
    "modified_string = original_string.replace(\"o\", \"\") \n",
    "print(modified_string) "
   ]
  },
  {
   "cell_type": "code",
   "execution_count": 90,
   "id": "04137f87-b99e-4a89-867e-b572af3f2737",
   "metadata": {},
   "outputs": [
    {
     "name": "stdout",
     "output_type": "stream",
     "text": [
      "Helloworld!\n"
     ]
    }
   ],
   "source": [
    "original_string = \"Hello, world!\"\n",
    "modified_string = original_string[:5] + original_string[7:] \n",
    "print(modified_string) "
   ]
  },
  {
   "cell_type": "code",
   "execution_count": 92,
   "id": "f0490c40-588c-4e8a-86d5-4a091f80fa7f",
   "metadata": {},
   "outputs": [
    {
     "name": "stdout",
     "output_type": "stream",
     "text": [
      "Hell, wrld!\n"
     ]
    }
   ],
   "source": [
    "original_string = \"Hello, world!\"\n",
    "translation_table = str.maketrans(\"\", \"\", \"o\")  \n",
    "modified_string = original_string.translate(translation_table)\n",
    "print(modified_string)"
   ]
  },
  {
   "cell_type": "code",
   "execution_count": null,
   "id": "64f79dfc-de80-44df-ae0b-4f64cb76629a",
   "metadata": {},
   "outputs": [],
   "source": []
  }
 ],
 "metadata": {
  "kernelspec": {
   "display_name": "Python 3 (ipykernel)",
   "language": "python",
   "name": "python3"
  },
  "language_info": {
   "codemirror_mode": {
    "name": "ipython",
    "version": 3
   },
   "file_extension": ".py",
   "mimetype": "text/x-python",
   "name": "python",
   "nbconvert_exporter": "python",
   "pygments_lexer": "ipython3",
   "version": "3.12.4"
  }
 },
 "nbformat": 4,
 "nbformat_minor": 5
}
